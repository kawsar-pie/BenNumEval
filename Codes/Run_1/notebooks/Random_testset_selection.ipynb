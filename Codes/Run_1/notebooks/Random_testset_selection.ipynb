{
 "cells": [
  {
   "cell_type": "code",
   "execution_count": 1,
   "metadata": {
    "_cell_guid": "b1076dfc-b9ad-4769-8c92-a6c4dae69d19",
    "_uuid": "8f2839f25d086af736a60e9eeb907d3b93b6e0e5",
    "execution": {
     "iopub.execute_input": "2025-02-04T19:06:15.572496Z",
     "iopub.status.busy": "2025-02-04T19:06:15.572158Z",
     "iopub.status.idle": "2025-02-04T19:06:16.345732Z",
     "shell.execute_reply": "2025-02-04T19:06:16.344875Z",
     "shell.execute_reply.started": "2025-02-04T19:06:15.572469Z"
    },
    "trusted": true
   },
   "outputs": [
    {
     "name": "stdout",
     "output_type": "stream",
     "text": [
      "Saved BenNumEval_run_1_random_1000/Task1_random_150.csv\n",
      "Saved BenNumEval_run_1_random_1000/Task2_random_250.csv\n",
      "Saved BenNumEval_run_1_random_1000/Task3_random_150.csv\n",
      "Saved BenNumEval_run_1_random_1000/Task4_random_150.csv\n",
      "Saved BenNumEval_run_1_random_1000/Task5_random_150.csv\n",
      "Saved BenNumEval_run_1_random_1000/Task6_random_150.csv\n"
     ]
    }
   ],
   "source": [
    "import pandas as pd\n",
    "\n",
    "def load_dataset(task):\n",
    "    \"\"\"\n",
    "    Load dataset for a given task.\n",
    "    \"\"\"\n",
    "    task1 = pd.read_csv(\"../BenNumEval/Task1.csv\")\n",
    "    task2 = pd.read_csv(\"../BenNumEval/Task2.csv\")\n",
    "    task3 = pd.read_csv(\"../BenNumEval/Task3.csv\")\n",
    "    task4 = pd.read_csv(\"../BenNumEval/Task4.csv\")\n",
    "    task5 = pd.read_csv(\"../BenNumEval/Task5.csv\")\n",
    "    task6 = pd.read_csv(\"../BenNumEval/Task6.csv\")\n",
    "\n",
    "    task_dict = {\n",
    "        \"task1\": task1,\n",
    "        \"task2\": task2,\n",
    "        \"task3\": task3,\n",
    "        \"task4\": task4,\n",
    "        \"task5\": task5,\n",
    "        \"task6\": task6\n",
    "    }\n",
    "    return task_dict.get(task, \"Invalid task\")\n",
    "\n",
    "def save_random_samples():\n",
    "    \"\"\"\n",
    "    For each task, sample the desired number of rows and save as a separate CSV file.\n",
    "    - For tasks 1, 3, 4, 5, and 6, sample 150 rows.\n",
    "    - For task2, sample 250 rows.\n",
    "    \"\"\"\n",
    "    # Define the sample sizes for each task\n",
    "    sample_sizes = {\n",
    "        \"task1\": 150,\n",
    "        \"task2\": 250,\n",
    "        \"task3\": 150,\n",
    "        \"task4\": 150,\n",
    "        \"task5\": 150,\n",
    "        \"task6\": 150,\n",
    "    }\n",
    "    \n",
    "    for task, n_samples in sample_sizes.items():\n",
    "        df = load_dataset(task)\n",
    "        if isinstance(df, str):\n",
    "            print(f\"Dataset for {task} not found.\")\n",
    "            continue\n",
    "        \n",
    "        # Randomly sample rows (using a fixed random_state for reproducibility)\n",
    "        sampled_df = df.sample(n=n_samples, random_state=42)\n",
    "        \n",
    "        # Construct the output filename. Optionally, capitalize task name.\n",
    "        output_filename = f\"BenNumEval_run_1_random_1000/{task.capitalize()}_random_{n_samples}.csv\"\n",
    "        sampled_df.to_csv(output_filename, index=False)\n",
    "        print(f\"Saved {output_filename}\")\n",
    "\n",
    "# Run the function to save random samples\n",
    "save_random_samples()\n"
   ]
  },
  {
   "cell_type": "code",
   "execution_count": null,
   "metadata": {
    "trusted": true
   },
   "outputs": [],
   "source": []
  }
 ],
 "metadata": {
  "kaggle": {
   "accelerator": "none",
   "dataSources": [
    {
     "datasetId": 4922963,
     "sourceId": 9292863,
     "sourceType": "datasetVersion"
    }
   ],
   "dockerImageVersionId": 30839,
   "isGpuEnabled": false,
   "isInternetEnabled": true,
   "language": "python",
   "sourceType": "notebook"
  },
  "kernelspec": {
   "display_name": "base",
   "language": "python",
   "name": "python3"
  },
  "language_info": {
   "codemirror_mode": {
    "name": "ipython",
    "version": 3
   },
   "file_extension": ".py",
   "mimetype": "text/x-python",
   "name": "python",
   "nbconvert_exporter": "python",
   "pygments_lexer": "ipython3",
   "version": "3.11.4"
  }
 },
 "nbformat": 4,
 "nbformat_minor": 4
}
